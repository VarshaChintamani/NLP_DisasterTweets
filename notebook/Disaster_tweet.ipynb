{
 "cells": [
  {
   "cell_type": "markdown",
   "id": "592cca43",
   "metadata": {},
   "source": [
    "# Importing Libraries"
   ]
  },
  {
   "cell_type": "code",
   "execution_count": 1,
   "id": "80333542",
   "metadata": {},
   "outputs": [],
   "source": [
    "import warnings\n",
    "warnings.filterwarnings('ignore')"
   ]
  },
  {
   "cell_type": "code",
   "execution_count": 2,
   "id": "0886fc8d",
   "metadata": {},
   "outputs": [],
   "source": [
    "import pandas as pd\n",
    "import numpy as np\n",
    "import string\n",
    "import re"
   ]
  },
  {
   "cell_type": "code",
   "execution_count": 3,
   "id": "fc13f4d7",
   "metadata": {},
   "outputs": [],
   "source": [
    "import seaborn as sns\n",
    "import matplotlib.pyplot as plt\n",
    "%matplotlib inline"
   ]
  },
  {
   "cell_type": "code",
   "execution_count": 4,
   "id": "07ede201",
   "metadata": {},
   "outputs": [
    {
     "name": "stderr",
     "output_type": "stream",
     "text": [
      "[nltk_data] Downloading package wordnet to\n",
      "[nltk_data]     C:\\Users\\Varsha\\AppData\\Roaming\\nltk_data...\n",
      "[nltk_data]   Package wordnet is already up-to-date!\n",
      "[nltk_data] Downloading package punkt to\n",
      "[nltk_data]     C:\\Users\\Varsha\\AppData\\Roaming\\nltk_data...\n",
      "[nltk_data]   Package punkt is already up-to-date!\n",
      "[nltk_data] Downloading package stopwords to\n",
      "[nltk_data]     C:\\Users\\Varsha\\AppData\\Roaming\\nltk_data...\n",
      "[nltk_data]   Package stopwords is already up-to-date!\n"
     ]
    }
   ],
   "source": [
    "import nltk\n",
    "nltk.download('wordnet')\n",
    "nltk.download('punkt')\n",
    "nltk.download('stopwords')\n",
    "from nltk.stem import WordNetLemmatizer\n",
    "lemmatizer = WordNetLemmatizer()\n",
    "from nltk.stem import PorterStemmer\n",
    "ps = PorterStemmer()\n",
    "from nltk.corpus import stopwords\n",
    "from nltk.tokenize.treebank import TreebankWordTokenizer\n",
    "tokenizer = TreebankWordTokenizer()"
   ]
  },
  {
   "cell_type": "code",
   "execution_count": 5,
   "id": "9d6e3d30",
   "metadata": {},
   "outputs": [],
   "source": [
    "from sklearn.feature_extraction.text import TfidfVectorizer\n",
    "from sklearn.feature_extraction.text import CountVectorizer"
   ]
  },
  {
   "cell_type": "code",
   "execution_count": 6,
   "id": "0edf1a75",
   "metadata": {},
   "outputs": [],
   "source": [
    "from sklearn.metrics import classification_report,accuracy_score,confusion_matrix\n",
    "from sklearn.metrics import recall_score,precision_score,classification_report,balanced_accuracy_score,f1_score"
   ]
  },
  {
   "cell_type": "code",
   "execution_count": 7,
   "id": "537394f4",
   "metadata": {},
   "outputs": [],
   "source": [
    "from sklearn.tree import DecisionTreeClassifier\n",
    "from sklearn.ensemble import RandomForestClassifier\n",
    "from sklearn.naive_bayes import MultinomialNB\n",
    "from sklearn.linear_model import LogisticRegression\n",
    "from sklearn.svm import SVC"
   ]
  },
  {
   "cell_type": "code",
   "execution_count": 8,
   "id": "9451017a",
   "metadata": {},
   "outputs": [],
   "source": [
    "from sklearn.model_selection import RandomizedSearchCV\n",
    "from sklearn.model_selection import GridSearchCV, cross_val_score"
   ]
  },
  {
   "cell_type": "code",
   "execution_count": 9,
   "id": "be32b612",
   "metadata": {},
   "outputs": [],
   "source": [
    "from sklearn.model_selection import train_test_split"
   ]
  },
  {
   "attachments": {},
   "cell_type": "markdown",
   "id": "1bfcbe0a",
   "metadata": {},
   "source": [
    "## Data Overview"
   ]
  },
  {
   "cell_type": "code",
   "execution_count": 10,
   "id": "0a295a76",
   "metadata": {},
   "outputs": [],
   "source": [
    "train = pd.read_csv(\"train.csv\")\n",
    "test = pd.read_csv(\"test.csv\")\n",
    "train_copy = train.copy()\n",
    "test_copy = test.copy()"
   ]
  },
  {
   "cell_type": "code",
   "execution_count": 11,
   "id": "3a350a6a",
   "metadata": {
    "scrolled": true
   },
   "outputs": [
    {
     "name": "stdout",
     "output_type": "stream",
     "text": [
      "   id keyword location                                               text  \\\n",
      "0   1     NaN      NaN  Our Deeds are the Reason of this #earthquake M...   \n",
      "1   4     NaN      NaN             Forest fire near La Ronge Sask. Canada   \n",
      "2   5     NaN      NaN  All residents asked to 'shelter in place' are ...   \n",
      "\n",
      "   target  \n",
      "0       1  \n",
      "1       1  \n",
      "2       1  \n"
     ]
    }
   ],
   "source": [
    "print(train.head(3))"
   ]
  },
  {
   "cell_type": "code",
   "execution_count": 12,
   "id": "9d5657a2",
   "metadata": {},
   "outputs": [
    {
     "name": "stdout",
     "output_type": "stream",
     "text": [
      "   id keyword location                                               text\n",
      "0   0     NaN      NaN                 Just happened a terrible car crash\n",
      "1   2     NaN      NaN  Heard about #earthquake is different cities, s...\n",
      "2   3     NaN      NaN  there is a forest fire at spot pond, geese are...\n"
     ]
    }
   ],
   "source": [
    "print(test.head(3))"
   ]
  },
  {
   "cell_type": "code",
   "execution_count": 13,
   "id": "c2a2888c",
   "metadata": {},
   "outputs": [
    {
     "name": "stdout",
     "output_type": "stream",
     "text": [
      "(7613, 5)\n",
      "(3263, 4)\n"
     ]
    }
   ],
   "source": [
    "print(train.shape)\n",
    "print(test.shape)"
   ]
  },
  {
   "cell_type": "code",
   "execution_count": 14,
   "id": "b55b6c94",
   "metadata": {
    "scrolled": true
   },
   "outputs": [
    {
     "name": "stdout",
     "output_type": "stream",
     "text": [
      "id             0\n",
      "keyword       61\n",
      "location    2533\n",
      "text           0\n",
      "target         0\n",
      "dtype: int64\n",
      "-------------\n",
      "id             0\n",
      "keyword       26\n",
      "location    1105\n",
      "text           0\n",
      "dtype: int64\n"
     ]
    }
   ],
   "source": [
    "print(train.isnull().sum())\n",
    "print(\"-------------\")\n",
    "print(test.isnull().sum())"
   ]
  },
  {
   "cell_type": "code",
   "execution_count": 15,
   "id": "ff84cdcd",
   "metadata": {},
   "outputs": [
    {
     "name": "stdout",
     "output_type": "stream",
     "text": [
      "0    4342\n",
      "1    3271\n",
      "Name: target, dtype: int64\n"
     ]
    },
    {
     "data": {
      "text/plain": [
       "<AxesSubplot:xlabel='target', ylabel='count'>"
      ]
     },
     "execution_count": 15,
     "metadata": {},
     "output_type": "execute_result"
    },
    {
     "data": {
      "image/png": "[encoded data removed]",
      "text/plain": [
       "<Figure size 432x288 with 1 Axes>"
      ]
     },
     "metadata": {
      "needs_background": "light"
     },
     "output_type": "display_data"
    }
   ],
   "source": [
    "print(train[\"target\"].value_counts())\n",
    "sns.countplot(x=\"target\",data=train,palette='ocean',alpha=0.7)"
   ]
  },
  {
   "cell_type": "code",
   "execution_count": 16,
   "id": "1be1c9d0",
   "metadata": {},
   "outputs": [
    {
     "name": "stdout",
     "output_type": "stream",
     "text": [
      "221\n",
      "221\n"
     ]
    }
   ],
   "source": [
    "print(train.keyword.nunique())\n",
    "print(test.keyword.nunique())"
   ]
  },
  {
   "cell_type": "code",
   "execution_count": 17,
   "id": "1d08e881",
   "metadata": {},
   "outputs": [
    {
     "data": {
      "text/plain": [
       "set()"
      ]
     },
     "execution_count": 17,
     "metadata": {},
     "output_type": "execute_result"
    }
   ],
   "source": [
    "set_difference = set(train.keyword.unique())-set(test.keyword.unique())\n",
    "set_difference"
   ]
  },
  {
   "cell_type": "code",
   "execution_count": 18,
   "id": "f67e04bf",
   "metadata": {},
   "outputs": [
    {
     "data": {
      "text/plain": [
       "<AxesSubplot:title={'center':'Most frequent keywords in the train dataset'}>"
      ]
     },
     "execution_count": 18,
     "metadata": {},
     "output_type": "execute_result"
    },
    {
     "data": {
      "image/png": "[encoded data removed]",
      "text/plain": [
       "<Figure size 720x360 with 1 Axes>"
      ]
     },
     "metadata": {
      "needs_background": "light"
     },
     "output_type": "display_data"
    }
   ],
   "source": [
    "train_key=train.keyword.value_counts()[:10]\n",
    "plt.figure(figsize=(10,5))\n",
    "plt.xticks(rotation=45)\n",
    "plt.title(\"Most frequent keywords in the train dataset\")\n",
    "sns.barplot(train_key.index,train_key.values,palette=\"ocean\",alpha=0.8)"
   ]
  },
  {
   "cell_type": "code",
   "execution_count": 19,
   "id": "762a9818",
   "metadata": {},
   "outputs": [],
   "source": [
    "disaster=train.loc[train[\"target\"]==1]\n",
    "not_a_disaster=train.loc[train[\"target\"]==0]"
   ]
  },
  {
   "cell_type": "code",
   "execution_count": 20,
   "id": "009adda4",
   "metadata": {},
   "outputs": [
    {
     "data": {
      "text/plain": [
       "<AxesSubplot:title={'center':'Most frequent keywords for a disaster'}>"
      ]
     },
     "execution_count": 20,
     "metadata": {},
     "output_type": "execute_result"
    },
    {
     "data": {
      "image/png": "[encoded data removed]",
      "text/plain": [
       "<Figure size 720x360 with 1 Axes>"
      ]
     },
     "metadata": {
      "needs_background": "light"
     },
     "output_type": "display_data"
    }
   ],
   "source": [
    "disaster_key=disaster.keyword.value_counts()[:10]\n",
    "plt.figure(figsize=(10,5))\n",
    "plt.xticks(rotation=45)\n",
    "plt.title(\"Most frequent keywords for a disaster\")\n",
    "sns.barplot(disaster_key.index,disaster_key.values,palette=\"RdBu_r\")"
   ]
  },
  {
   "cell_type": "code",
   "execution_count": 21,
   "id": "3f80af7c",
   "metadata": {},
   "outputs": [
    {
     "data": {
      "text/plain": [
       "<AxesSubplot:title={'center':'Most frequent keywords for a disaster'}>"
      ]
     },
     "execution_count": 21,
     "metadata": {},
     "output_type": "execute_result"
    },
    {
     "data": {
      "image/png": "[encoded data removed]",
      "text/plain": [
       "<Figure size 720x360 with 1 Axes>"
      ]
     },
     "metadata": {
      "needs_background": "light"
     },
     "output_type": "display_data"
    }
   ],
   "source": [
    "nondisaster_key=not_a_disaster.keyword.value_counts()[:10]\n",
    "plt.figure(figsize=(10,5))\n",
    "plt.xticks(rotation=45)\n",
    "plt.title(\"Most frequent keywords for a disaster\")\n",
    "sns.barplot(nondisaster_key.index,nondisaster_key.values,palette=\"BuGn_r\")"
   ]
  },
  {
   "cell_type": "code",
   "execution_count": 22,
   "id": "40e4e906",
   "metadata": {},
   "outputs": [
    {
     "data": {
      "text/plain": [
       "<AxesSubplot:title={'center':'Most frequent locations in the disaster dataset'}>"
      ]
     },
     "execution_count": 22,
     "metadata": {},
     "output_type": "execute_result"
    },
    {
     "data": {
      "image/png": "[encoded data removed]",
      "text/plain": [
       "<Figure size 720x360 with 1 Axes>"
      ]
     },
     "metadata": {
      "needs_background": "light"
     },
     "output_type": "display_data"
    }
   ],
   "source": [
    "disaster_loc=disaster.location.value_counts()[:10]\n",
    "plt.figure(figsize=(10,5))\n",
    "plt.xticks(rotation=45)\n",
    "plt.title(\"Most frequent locations in the disaster dataset\")\n",
    "sns.barplot(disaster_loc.index,disaster_loc.values,palette=\"YlGnBu_r\")"
   ]
  },
  {
   "cell_type": "code",
   "execution_count": 23,
   "id": "9ef948ab",
   "metadata": {},
   "outputs": [
    {
     "data": {
      "text/plain": [
       "<AxesSubplot:title={'center':'Most frequent locations in the not_a_disaster dataset'}>"
      ]
     },
     "execution_count": 23,
     "metadata": {},
     "output_type": "execute_result"
    },
    {
     "data": {
      "image/png": "[encoded data removed]",
      "text/plain": [
       "<Figure size 720x360 with 1 Axes>"
      ]
     },
     "metadata": {
      "needs_background": "light"
     },
     "output_type": "display_data"
    }
   ],
   "source": [
    "nondisaster_loc=not_a_disaster.location.value_counts()[:10]\n",
    "plt.figure(figsize=(10,5))\n",
    "plt.xticks(rotation=45)\n",
    "plt.title(\"Most frequent locations in the not_a_disaster dataset\")\n",
    "sns.barplot(nondisaster_loc.index,nondisaster_loc.values,palette=\"ocean\")"
   ]
  },
  {
   "cell_type": "markdown",
   "id": "e0ba90f6",
   "metadata": {},
   "source": [
    "## Data Cleaning"
   ]
  },
  {
   "cell_type": "code",
   "execution_count": 24,
   "id": "e46e0ca4",
   "metadata": {},
   "outputs": [],
   "source": [
    "train=train.fillna('')\n",
    "test=test.fillna('')"
   ]
  },
  {
   "cell_type": "code",
   "execution_count": 25,
   "id": "33060085",
   "metadata": {},
   "outputs": [],
   "source": [
    "def clean1(text):\n",
    "    emoji_pattern = re.compile(\"[\"\n",
    "                           u\"\\U0001F600-\\U0001F64F\"  # emoticons\n",
    "                           u\"\\U0001F300-\\U0001F5FF\"  # symbols & pictographs\n",
    "                           u\"\\U0001F680-\\U0001F6FF\"  # transport & map symbols\n",
    "                           u\"\\U0001F1E0-\\U0001F1FF\"  # flags (iOS)\n",
    "                           u\"\\U00002702-\\U000027B0\"\n",
    "                           u\"\\U000024C2-\\U0001F251\"\n",
    "                           \"]+\", flags=re.UNICODE)\n",
    "    return emoji_pattern.sub(r'', text)"
   ]
  },
  {
   "cell_type": "code",
   "execution_count": 26,
   "id": "bb53f832",
   "metadata": {},
   "outputs": [],
   "source": [
    "train[\"text\"]=train[\"text\"].apply(lambda x: clean1(x))\n",
    "test[\"text\"]=test[\"text\"].apply(lambda x: clean1(x))"
   ]
  },
  {
   "cell_type": "code",
   "execution_count": 27,
   "id": "d6e5da1f",
   "metadata": {},
   "outputs": [],
   "source": [
    "def clean2(string):\n",
    "  tweet=string.lower()\n",
    "  tweet=re.sub(r\"https?\\S+\",\" \",tweet)\n",
    "  tweet=re.sub(\"#\",\" \",tweet)\n",
    "  tweet=re.sub(r\"^@\\w+\",\" \",tweet)\n",
    "  return tweet"
   ]
  },
  {
   "cell_type": "code",
   "execution_count": 28,
   "id": "df60e7c4",
   "metadata": {},
   "outputs": [],
   "source": [
    "train[\"text\"]=train[\"text\"].apply(lambda x: clean2(x))\n",
    "test[\"text\"]=test[\"text\"].apply(lambda x: clean2(x))"
   ]
  },
  {
   "cell_type": "code",
   "execution_count": 29,
   "id": "3bf57e38",
   "metadata": {},
   "outputs": [],
   "source": [
    "#using the TreeBankWordTokenizer\n",
    "train[\"text\"]=train[\"text\"].apply(lambda x: tokenizer.tokenize(x))\n",
    "test[\"text\"]=test[\"text\"].apply(lambda x: tokenizer.tokenize(x))"
   ]
  },
  {
   "cell_type": "code",
   "execution_count": 30,
   "id": "0124990b",
   "metadata": {},
   "outputs": [],
   "source": [
    "def clean3(string):\n",
    "  tweet = ' '.join(string)\n",
    "  tweet=re.sub(\"'s\",\"is\",tweet)\n",
    "  tweet=re.sub(\"n't\",\"not\",tweet)\n",
    "  tweet=re.sub(\"'m\",\"am\",tweet)\n",
    "  return tweet    "
   ]
  },
  {
   "cell_type": "code",
   "execution_count": 31,
   "id": "01a95514",
   "metadata": {},
   "outputs": [],
   "source": [
    "train[\"text\"]=train[\"text\"].apply(lambda x: clean3(x))\n",
    "test[\"text\"]=test[\"text\"].apply(lambda x: clean3(x))"
   ]
  },
  {
   "cell_type": "code",
   "execution_count": 32,
   "id": "837a8784",
   "metadata": {},
   "outputs": [],
   "source": [
    "def clean4(string):\n",
    "  tweet=string\n",
    "  tweet=re.sub(r\"\\W+\",\" \",tweet)\n",
    "  tweet=re.sub(r\"\\d+\",\" \",tweet)\n",
    "  tweet=re.sub(\"_\",\" \",tweet)\n",
    "  tweet=re.sub(r\"\\b\\w\\w\\b\",\" \",tweet)\n",
    "  tweet=re.sub(r\"\\b\\w\\b\",\" \",tweet)\n",
    "  return tweet"
   ]
  },
  {
   "cell_type": "code",
   "execution_count": 33,
   "id": "450675d8",
   "metadata": {},
   "outputs": [],
   "source": [
    "train[\"text\"]=train[\"text\"].apply(lambda x: clean4(x))\n",
    "test[\"text\"]=test[\"text\"].apply(lambda x: clean4(x))"
   ]
  },
  {
   "cell_type": "code",
   "execution_count": 34,
   "id": "ec6644b7",
   "metadata": {},
   "outputs": [
    {
     "data": {
      "text/plain": [
       "{'',\n",
       " 'Bandar Lampung, Indonesia',\n",
       " 'heart of darkness, unholy ?',\n",
       " 'Nelspruit, South Africa',\n",
       " 'Our Empire State',\n",
       " 'Arlington, VA',\n",
       " 'Chamblee, Georgia',\n",
       " 'Where the money at',\n",
       " '???????????',\n",
       " 'San Juan, Puerto Rico',\n",
       " 'Amsterdam',\n",
       " 'KurveZ@GearHeadCentral.net',\n",
       " 'chicago',\n",
       " 'Blackpool, England, UK.',\n",
       " 'Medford, Oregon',\n",
       " 'Raleigh (Garner/Cleveland) NC',\n",
       " 'Brisbane.',\n",
       " 'atlanta',\n",
       " 'Maldives',\n",
       " 'Des Moines, Iowa ',\n",
       " 'ACCRA GHANA',\n",
       " 'Ojodu,Lagos',\n",
       " 'Between Dire and Radiant',\n",
       " 'Scotland',\n",
       " 'Black Canyon New River, AZ',\n",
       " 'Singapore',\n",
       " 'Florida, USA',\n",
       " 'Alexandria, Egypt.',\n",
       " 'Menlo Park. SFO. The World.',\n",
       " 'Nairobi-KENYA',\n",
       " 'East Lansing, MI',\n",
       " 'nyc',\n",
       " 'South Carolina',\n",
       " 'lakewood colorado',\n",
       " 'BROOKLYN, NYC',\n",
       " 'Am International',\n",
       " 'Chicago, IL ',\n",
       " 'Magnolia',\n",
       " 'Above the snake line - #YoNews',\n",
       " 'Hyrule',\n",
       " 'maryland',\n",
       " 'Behind The Obama Curtain',\n",
       " 'Brooklyn, New York',\n",
       " 'Las Cruces, NM',\n",
       " 'Nakhon Si Thammarat',\n",
       " 'New Delhi, India',\n",
       " 'Voorhees, NJ',\n",
       " 'Lexington',\n",
       " 'Planet of da Bathing Apes',\n",
       " 'Near Yosemite',\n",
       " 'Fleet/Oxford, UK',\n",
       " 'EIC',\n",
       " '?205?478?',\n",
       " 'Japan',\n",
       " 'in the Word of God',\n",
       " 'manchester, uk.',\n",
       " 'The ?? below ???',\n",
       " 'Traverse City, MI',\n",
       " 'TV5, Philippines',\n",
       " 'Linton Hall, VA',\n",
       " 'Fort Walton Beach, FL',\n",
       " 'miami x dallas ',\n",
       " 'Eagle River Alaska',\n",
       " 'Portland, Ore. ',\n",
       " 'Dorset, United Kingdom',\n",
       " 'Greenwich Meridian',\n",
       " 'Costa Rica',\n",
       " 'Kent',\n",
       " 'Palestine Texas',\n",
       " 'Norway',\n",
       " 'Michigan ',\n",
       " 'NC',\n",
       " 'iPhone: 33.104393,-96.628624',\n",
       " 'Lagos Nigeria',\n",
       " 'CCH ',\n",
       " 'Los Angeles, CA',\n",
       " 'Idaho',\n",
       " 'At your back',\n",
       " 'Fort Worth, Texas',\n",
       " 'Upper manhattan, New York',\n",
       " 'big boy \\x89Û¢ 0802',\n",
       " 'The Meadow',\n",
       " 'Las Vegas, NV',\n",
       " 'Ideally under a big tree',\n",
       " 'cedar rapids ia',\n",
       " 'Moore, OK',\n",
       " 'Napa, CA',\n",
       " 'Brasil, Fortaleza ce',\n",
       " 'Greensboro, NC',\n",
       " 'Sarasota, FL',\n",
       " 'seattle grace mercy death',\n",
       " 'AUSTRALIA-SOUTHAFRICA-CAMBODIA',\n",
       " 'Your Conversation',\n",
       " 'International',\n",
       " 'Westerland',\n",
       " 'West Lancashire, UK.',\n",
       " 'VÌ_sterÌ´s, Sweden',\n",
       " 'Charlotte, North Carolina',\n",
       " '-6.152261,106.775995',\n",
       " 'The Globe',\n",
       " 'Dimapur',\n",
       " 'Lahti, Finland',\n",
       " 'rowyso dallas ',\n",
       " 'Houston, TX  ',\n",
       " 'My heart is a ghost town!',\n",
       " 'Winston-Salem, NC',\n",
       " 'Newton Centre, Massachusetts',\n",
       " 'Wilmington, Delaware',\n",
       " 'Orlando',\n",
       " 'Trumann, Arkansas',\n",
       " 'Macon, Georgia',\n",
       " 'SD |Norway| KSA',\n",
       " 'VONT ISLAND, LAGOS',\n",
       " 'Huntsville, Alabama',\n",
       " 'My contac 27B80F7E 08170156520',\n",
       " 'London.',\n",
       " 'sitting on Eddie Vedders lap,',\n",
       " 'WORLDWI$E ',\n",
       " 'Long Island NY & San Francisco',\n",
       " 'California',\n",
       " 'Fort Myers, Florida',\n",
       " 'Back East in PA',\n",
       " 'London/Bristol/Guildford',\n",
       " 'Augusta, GA',\n",
       " '3rd Eye Chakra',\n",
       " 'Wolmers Trust School for Boys ',\n",
       " 'hell',\n",
       " 'Orbost, Victoria, Australia',\n",
       " 'Bucks County, Pa',\n",
       " 'Rockland County, NY',\n",
       " 'The P (South Philly)',\n",
       " 'Coventry, Rhode Island',\n",
       " 'ÌÏT: 30.307558,-81.403118',\n",
       " 'www.twitch.tv/PKSparkxx',\n",
       " 'Jackson, MS',\n",
       " 'Slappin and Smackin ',\n",
       " 'tri state',\n",
       " 'Milwaukee, WI',\n",
       " 'Spokane, WA',\n",
       " 'Galveston, Texas',\n",
       " 'Paris (France)',\n",
       " 'Pennsylvania',\n",
       " 'death star',\n",
       " 'Dindigul,TamilNadu.',\n",
       " 'Waco TX',\n",
       " 'FOLLOWS YOU everywhere you go',\n",
       " '1D | 5SOS | AG',\n",
       " 'Deployed in the Middle East',\n",
       " 'ÌÏT: 10.614817868480726,12.195582811791382',\n",
       " 'SÌ£o Paulo SP,  Brasil',\n",
       " 'instagram- Chloe_Bellx',\n",
       " 'Htx',\n",
       " 'Coimbatore',\n",
       " 'North Carolina ',\n",
       " 'Swaning Around',\n",
       " 'Henderson, NV',\n",
       " 'Intramuros, Manila',\n",
       " 'The South & WestCoast ',\n",
       " 'texas',\n",
       " 'Justin and Ariana follow',\n",
       " 'nowhere',\n",
       " 'WORDLDWIDE',\n",
       " 'CHICAGO (312)',\n",
       " 'california | oregon | peru |',\n",
       " 'St. Louis',\n",
       " 'Shipwreck Cove',\n",
       " 'Studio',\n",
       " 'wny',\n",
       " 'Happily Married with 2 kids ',\n",
       " 'University Heights, Ohio',\n",
       " 'Huntley, IL',\n",
       " 'Realville',\n",
       " 'Pacific Northwest',\n",
       " 'Espoo, Finland',\n",
       " '261 5th Avenue New York, NY ',\n",
       " 'White Plains, NY',\n",
       " 'Cyprus',\n",
       " 'Spokane, Washington 99206',\n",
       " 'KADUNA, NIGERIA',\n",
       " 'Stateless Global Citizen',\n",
       " 'Harper Woods, MI',\n",
       " 'The Low-Cal Calzone Zone',\n",
       " 'Viejo',\n",
       " 'Largo, MD',\n",
       " 'Hampstead, London.',\n",
       " 'Palestine ',\n",
       " 'EPTX',\n",
       " 'Cincinnati, OH',\n",
       " 'iTunes - RSS',\n",
       " 'Some pum pum',\n",
       " \"Jakarta/Kuala Lumpur/S'pore\",\n",
       " 'walking the tightrope',\n",
       " 'Washington, DC NATIVE',\n",
       " 'Mo.City',\n",
       " 'Virginia',\n",
       " 'Columbus, Georgia',\n",
       " 'Royton',\n",
       " 'England',\n",
       " 'Calgary,AB, Canada',\n",
       " 'Vancouver Canada',\n",
       " 'Central Coast, California',\n",
       " 'SÌ£o Paulo, Brasil',\n",
       " 'Hamburg, DE',\n",
       " 'Cardiff, Wales',\n",
       " 'Bug Forest',\n",
       " 'East TN.',\n",
       " 'bajaur',\n",
       " 'Washington, DC',\n",
       " 'Mumbai',\n",
       " '(a) property of the universe',\n",
       " '\\x89ÛÊ\\x89ÛÊ\\x89ÛÊ',\n",
       " \"St. Patrick's Purgatory\",\n",
       " 'Made in America',\n",
       " 'san gabriel la union',\n",
       " 'Every Where in the World',\n",
       " 'Sweden',\n",
       " 'laying on the bass',\n",
       " 'Madison, Wisconsin, USA',\n",
       " 'SF Bay Area, California / Greater Phoenix, AZ',\n",
       " 'Boston/Montreal ',\n",
       " 'WASHINGTON,DC',\n",
       " 'Belbroughton, England',\n",
       " 'Stay Fly?',\n",
       " 'Hollywood, CA',\n",
       " 'Kingswinford',\n",
       " 'Midwest',\n",
       " 'Lyallpur, Pakistan',\n",
       " 'At Da Laundry Mat Wit Nivea ',\n",
       " 'RhodeIsland',\n",
       " 'Crato - CE ',\n",
       " 'Bangalore, INDIA',\n",
       " ' New Delhi ',\n",
       " 'oxford',\n",
       " 'Silesia, Poland',\n",
       " 'Polmont ',\n",
       " 'Carry On Jutta!!!',\n",
       " 'Danbury, CT',\n",
       " 'Davis, California',\n",
       " 'Manchester',\n",
       " '505 W. Maple, Suite 100',\n",
       " 'teh internets',\n",
       " 'dublin ',\n",
       " 'brooklyn, NYC',\n",
       " 'Malibu/SantaFe/Winning!',\n",
       " '#NewcastleuponTyne #UK',\n",
       " 'los angeles, ca',\n",
       " 'Smash Manor/Kanto',\n",
       " 'AKRON OHIO USA',\n",
       " 'Halifax',\n",
       " 'far away',\n",
       " 'Avon',\n",
       " 'Columbia, SC',\n",
       " 'The North',\n",
       " 'Nirvana',\n",
       " 'blackfalds.',\n",
       " 'Peru',\n",
       " 'central chazifornia',\n",
       " 'Hattiesburg, MS',\n",
       " 'Jacksonville Beach, FL',\n",
       " 'Regalo Island',\n",
       " 'Laguna Beach, Calif. ',\n",
       " 'New York City',\n",
       " 'In a crazy genius mind',\n",
       " 'Sand springs oklahoma',\n",
       " 'US: 44.414510,8.942499',\n",
       " 'Orlando, FL',\n",
       " 'Houston, Texas ! ',\n",
       " 'Proudly frozen Canuck eh !!',\n",
       " 'Waukesha, WI',\n",
       " 'Suva, Fiji Islands.',\n",
       " 'Accra,Ghana',\n",
       " 'New York. NY',\n",
       " 'D.C. - Baltimore - Annapolis',\n",
       " 'Kodiak, AK',\n",
       " 'FILM OUT LATE 2015',\n",
       " 'Serva Fidem',\n",
       " 'Brum/Lestah ',\n",
       " 'Yeezy Taught Me , NV',\n",
       " 'Massachusetts, USA',\n",
       " 'St Louis, MO',\n",
       " 'Kwara, Nigeria',\n",
       " 'The shores of Lake Kilby',\n",
       " 'International Action',\n",
       " 'ATLANTA , GEORGIA ',\n",
       " 'ÌÏT: 41.252426,-96.072013',\n",
       " 'Sunny South florida ',\n",
       " 'Medford, NJ',\n",
       " 'Lubbock, TX',\n",
       " 'Rafael castillo',\n",
       " 'ÌÏT: 27.9136024,-81.6078532',\n",
       " 'ATX',\n",
       " 'Wood Buffalo, Alberta',\n",
       " 'Calgary',\n",
       " 'In my studio',\n",
       " 'Earth ',\n",
       " 'Desert Storm?? |BCHS|',\n",
       " 'Republica Dominicana',\n",
       " 'Leicester',\n",
       " 'Argentina',\n",
       " 'Erie, PA',\n",
       " 'Wasington, DC',\n",
       " 'Manila City',\n",
       " 'Ciudad AutÌ_noma de Buenos Aires, Argentina',\n",
       " 'Calgary, AB',\n",
       " 'Asheville, NC',\n",
       " 'emily | helen | shelley ',\n",
       " 'Dammam- KSA',\n",
       " 'ARBAILO',\n",
       " 'To The Right of You!',\n",
       " 'Long Eaton åá Derbyshire åá UK',\n",
       " 'Mountains',\n",
       " 'Shelby County',\n",
       " 'sitting on the fence, New York',\n",
       " 'Neverland',\n",
       " 'West',\n",
       " 'fl',\n",
       " 'Atlanta',\n",
       " 'North London',\n",
       " 'Washington, USA',\n",
       " 'dallas',\n",
       " 'MÌ©rida, YucatÌÁn',\n",
       " 'JamDung',\n",
       " 'Bokaro Steel City, Jharkhand',\n",
       " 'Park Ridge, Illinois',\n",
       " 'staggering on tenement roofs',\n",
       " 'Inexpressible Island ',\n",
       " 'UPTOWN ',\n",
       " 'Across the Atlantic',\n",
       " 'Nashville, Tennessee',\n",
       " 'Paris',\n",
       " 'at my home',\n",
       " '//RP\\\\ ot @Mort3mer\\\\\\\\',\n",
       " 'Pleasanton, CA',\n",
       " 'Iowa, USA',\n",
       " 'Tunbridge Wells',\n",
       " 'Home is where we park it!',\n",
       " 'Goa, India',\n",
       " 'Loughton, Essex, UK',\n",
       " 'Leeds',\n",
       " 'West Wales',\n",
       " 'Norman, Oklahoma',\n",
       " 'Queen Creek AZ',\n",
       " 'Amman,Jordan',\n",
       " 'Hannover, Germany',\n",
       " 'Gloucester',\n",
       " 'QUEENS.',\n",
       " 'Srinagar,Kashmir',\n",
       " 'Nevada, USA',\n",
       " 'USA, WA',\n",
       " 'Edinburgh',\n",
       " 'The Desert',\n",
       " 'Norwich',\n",
       " '  News',\n",
       " 'North Carolina',\n",
       " 'Georgia ? Tennessee',\n",
       " 'Poplar, London',\n",
       " 'The Internet',\n",
       " 'Nairobi, Kenya ',\n",
       " 'U.S.A. - Global Members Site',\n",
       " 'sheffield // rotherham',\n",
       " '#iminchina',\n",
       " '\\x89Û¢FLG\\x89Û¢',\n",
       " \"#WhereverI'mAt\",\n",
       " \"Xi'an, China\",\n",
       " 'Swan River',\n",
       " \"Niall's arms\",\n",
       " 'The World',\n",
       " 'Silver Spring, MD',\n",
       " 'St Austell, Cornwall',\n",
       " 'Auckland, New Zealand',\n",
       " 'Milton Keynes, England',\n",
       " 'Live mÌÁs',\n",
       " 'Im Around ... Jersey',\n",
       " 'Hartford,  connecticut',\n",
       " 'AUS',\n",
       " 'Somewhere',\n",
       " 'CORNFIELDS',\n",
       " 'Former Yugoslav Republic of Macedonia',\n",
       " 'Yadkinville, NC',\n",
       " 'PROV',\n",
       " 'Bronx NYC / M-City NY',\n",
       " '14/cis/istj ',\n",
       " 'PS4, now stop asking',\n",
       " 'Eagle Pass, Texas',\n",
       " 'Thane',\n",
       " 'Tring ',\n",
       " 'Newcastle',\n",
       " 'Pro-American and Anti-#Occupy',\n",
       " 'Tulsa, OK',\n",
       " 'Ohio',\n",
       " 'Madison, GA',\n",
       " 'Brecksville, OH',\n",
       " 'Mississauga, Ontario',\n",
       " 'Not Of This World',\n",
       " 'Holland MI via Houston, CLE',\n",
       " 'Netherlands',\n",
       " 'NEW YORK',\n",
       " 'Gloucestershire , UK',\n",
       " 'Photo : Blue Mountains ',\n",
       " 'Lethbridge, AB, Canada',\n",
       " 'West Hollywood, CA',\n",
       " 'St Charles, MD',\n",
       " 'N. California USA',\n",
       " 'Valparaiso ',\n",
       " 'icon: cheese3d',\n",
       " 'Baker City Oregon',\n",
       " 'everydaynigerian@gmail.com',\n",
       " 'Scotts Valley, CA',\n",
       " '772 Temperance Permenence',\n",
       " 'on the web',\n",
       " 'missouri USA',\n",
       " 'Alberta Pack',\n",
       " 'Based in CA - Serve Nationwide',\n",
       " 'Buxton, Venice, and Nottingham',\n",
       " 'Bloomington, IN',\n",
       " 'Methville, CA',\n",
       " '#freegucci',\n",
       " 'West Coast, Cali USA',\n",
       " 'Richardson TX',\n",
       " 'Nadiad ,Gujarat , India!!',\n",
       " \"FSC '19\",\n",
       " 'Glasgow',\n",
       " 'Pune, Maharashtra',\n",
       " 'Vancouver, BC.',\n",
       " 'Friendswood, TX',\n",
       " '6',\n",
       " '5-Feb',\n",
       " 'proudly South African',\n",
       " 'H / pez & sophia ',\n",
       " 'Sevier County.',\n",
       " 'Miami ??',\n",
       " 'Nomad, USA',\n",
       " 'Fashion Heaven. IG: TMId_',\n",
       " 'Johannesburg, South Africa ',\n",
       " 'a box',\n",
       " 'between ideas & 3-5pm AEST',\n",
       " '?semekeepschanging@soyeh?',\n",
       " 'Cameroon',\n",
       " 'melbourne',\n",
       " 'Phila.',\n",
       " 'Sunrise Manor, NV',\n",
       " 'Warwick, RI @Dollarocracy also',\n",
       " 'Colorado',\n",
       " 'Riverside, California.',\n",
       " 'Official Website',\n",
       " 'England,UK,Europe,Sol 3.',\n",
       " 'somewhere in Indiana ',\n",
       " 'The Shady Hyenatown of Finland',\n",
       " 'Bucharest',\n",
       " 'Mumbai (India)',\n",
       " 'canada',\n",
       " 'Dhaka',\n",
       " 'Minneapolis, MN',\n",
       " 'London UK',\n",
       " '#1 Vacation Destination,HAWAII',\n",
       " 'midwest',\n",
       " 'Inside your webcam. Stop that.',\n",
       " 'southwest, Tx',\n",
       " 'Baydestrian',\n",
       " 'aggressive cannoli eater ',\n",
       " 'Atlantic, IA',\n",
       " 'Amazon Seller , Propagandist',\n",
       " 'VISIT MY YOUTUBE CHANNEL.',\n",
       " 'Los Angeles, London, Kent',\n",
       " 'MedellÌ_n, Antioquia',\n",
       " 'am everywhere',\n",
       " 'Calgary, Alberta, Canada',\n",
       " 'Fort Calhoun, NE',\n",
       " 'Making Worldwide Change Near U',\n",
       " 'Torrance, CA',\n",
       " 'Honduras',\n",
       " 'Jersey',\n",
       " \"Lytham St Anne's \",\n",
       " 'Bishops Lydeard, England',\n",
       " '? ',\n",
       " 'IM LOST ',\n",
       " 'Scituate, MA',\n",
       " 'Scottsdale, AZ',\n",
       " 'Lake Highlands',\n",
       " 'mumbai',\n",
       " 'Manchester, England',\n",
       " 'Bukittinggi  ?? Sumatera Barat',\n",
       " 'Conroe, TX',\n",
       " 'Oregon and Washington',\n",
       " 'Aberdeenshire',\n",
       " 'West Africa',\n",
       " 'peekskill. new york, 10566 ',\n",
       " 'Killarney',\n",
       " \"Riyadh ')\",\n",
       " 'Charlotte, N.C.',\n",
       " 'Greater Manchester, UK',\n",
       " 'Caribbean',\n",
       " 'Oregon',\n",
       " 'Yobe State',\n",
       " 'Nevada (wishing for Colorado)',\n",
       " 'Yellowknife, NT',\n",
       " 'Coolidge, AZ',\n",
       " 'Beaumont, TX',\n",
       " 'KSU 2017',\n",
       " 'Hudson Valley, NY',\n",
       " 'Texas-USA\\x89ã¢ ?',\n",
       " '#keepthefaith J&J',\n",
       " 'The Shire',\n",
       " 'Biloxi, Mississippi',\n",
       " '3.28.15|7.20.15|7.25.15',\n",
       " 'The Triskelion',\n",
       " 'Brackley Beach, PE, Canada',\n",
       " 'Macon, GA',\n",
       " 'Downtown Oklahoma City',\n",
       " 'Alger-New York-San Francisco',\n",
       " 'Portsmouth, VA',\n",
       " 'Tafekop Ga-Matsepe',\n",
       " 'BiÌ±an,Laguna',\n",
       " 'somewhere too cold for me',\n",
       " 'Woosley',\n",
       " 'CPT & JHB, South Africa',\n",
       " 'Alameda, CA',\n",
       " 'Nashville, TN',\n",
       " ' ?currently writing a book?',\n",
       " 'Austin, Texas',\n",
       " 'Greeley, CO',\n",
       " 'Spring Tx',\n",
       " 'Americas Newsroom',\n",
       " 'Dublin City, Ireland',\n",
       " 'Chicago, IL 60607',\n",
       " 'Lynnfield, MA',\n",
       " 'Woodcreek HS, Roseville, CA',\n",
       " 'Jammu and Kashmir',\n",
       " 'Purfleet',\n",
       " 'Lima, Ohio',\n",
       " 'Port Charlotte, FL',\n",
       " 'texasss',\n",
       " '[@blackparavde is my frankie]',\n",
       " 'Atlanta, Georgia',\n",
       " 'i love the smurfs 2',\n",
       " 'LEALMAN, FLORIDA',\n",
       " 'Kuala Lumpur, Malaysia',\n",
       " 'Providence RI / Lisnaskea ',\n",
       " 'Castaic, CA',\n",
       " 'CLT',\n",
       " 'Yooooooo',\n",
       " 'DC Metro area',\n",
       " 'New Orleans ,Louisiana',\n",
       " 'Mogadishu, Somalia',\n",
       " 'Gidi',\n",
       " \"EastAtlanta ??#WestGeorgia'18\",\n",
       " 'Bangalore. India',\n",
       " ' ? ??????? ? ( ?? å¡ ? ? ? å¡)',\n",
       " 'Malaysia/Jordan',\n",
       " 'Hermitage, PA',\n",
       " 'Hammersmith, London',\n",
       " 'Melbourne, Victoria',\n",
       " 'boston',\n",
       " 'www.tmgcgart.com',\n",
       " 'MD',\n",
       " 'Hell',\n",
       " 'UAE,Sharjah/ AbuDhabi',\n",
       " 'Hartford, Connecticut',\n",
       " 'Ktx',\n",
       " '#WashingtonState #Seattle',\n",
       " 'Terlingua, Texas',\n",
       " 'The Peach State',\n",
       " 'Caracas, Venezuela.',\n",
       " 'Netherlands,Amsterdam-Virtual ',\n",
       " 'cyprus',\n",
       " 'Wilmington, DE',\n",
       " '$ad $hawty',\n",
       " 'nor*cal',\n",
       " 'New York ',\n",
       " 'New York',\n",
       " 'Spokane, Washington',\n",
       " 'Victoria, Canada',\n",
       " 'pittsboro',\n",
       " 'A small federal enclave',\n",
       " 'Gold Coast',\n",
       " 'turner fenton',\n",
       " 'Kuwait',\n",
       " 'Piedmont Area, North Carolina',\n",
       " 'Hame',\n",
       " 'Jerseyville, IL',\n",
       " 'Victoria, Tx.',\n",
       " '[ Blonde Bi Fry. ]',\n",
       " '??????????????',\n",
       " 'Overton NV',\n",
       " 'Charlottetown',\n",
       " 'HI\\x89Û¢UT\\x89Û¢AS',\n",
       " 'ÌÏT: 0.0,0.0',\n",
       " 'Pembroke NH',\n",
       " 'South Asia',\n",
       " 'Mongolia',\n",
       " 'Pensacola, FL',\n",
       " ' Baku & Erzurum ',\n",
       " 'Buffalo NY',\n",
       " 'S.F. Bay area',\n",
       " 'rome',\n",
       " 'Toronto, Bob-Lo, Miami Beach',\n",
       " 'Blackpool',\n",
       " 'All around the world!',\n",
       " 'Tn',\n",
       " 'marvel | books | hp | tmr',\n",
       " 'Los Angeles New York',\n",
       " 'louisville, kentucky',\n",
       " 'Milton keynes',\n",
       " 'Higher Places',\n",
       " 'NY, CT & Greece',\n",
       " 'California ',\n",
       " 'Cymru araul',\n",
       " 'Hailing from Dayton ',\n",
       " 'seoul',\n",
       " 'Virgo Supercluster',\n",
       " 'Mackay, QLD, Australia',\n",
       " 'The Windy City',\n",
       " 'The Netherlands',\n",
       " 'Ventura',\n",
       " 'Huntington, WV',\n",
       " 'New Mexico, USA',\n",
       " 'Plano, IL',\n",
       " 'El Paso, Texas',\n",
       " 'Cassadaga Florida',\n",
       " 'Houston ',\n",
       " 'Beirut/Toronto',\n",
       " 'Horsemind, MI',\n",
       " 'Walthamstow, London',\n",
       " 'THE 6IX',\n",
       " 'åø\\\\_(?)_/åø',\n",
       " '#FLIGHTCITY UK  ',\n",
       " 'Pittsburgh ',\n",
       " 'Jaipur, India',\n",
       " 'DFW, Texas',\n",
       " 'labyrinthia',\n",
       " 'Earth: Senseless nonsense',\n",
       " 'Kelowna, BC',\n",
       " 'The Internet & NYC',\n",
       " 'ayr',\n",
       " 'hertfordshire.',\n",
       " 'Olathe, KS',\n",
       " 'va',\n",
       " 'ÌÏT: 42.910975,-78.865828',\n",
       " 'Dundas, Ontario',\n",
       " 'Spain',\n",
       " 'everywhere',\n",
       " 'America of Founding Fathers',\n",
       " 'Fiore, Lamia Scale',\n",
       " '#SandraBland',\n",
       " 'Trinity, Bailiwick of Jersey',\n",
       " 'sweden',\n",
       " 'st.louis county missouri ',\n",
       " 'Sydney Australia',\n",
       " 'Canada Eh! ',\n",
       " 'OK',\n",
       " 'Vancouver, Canada',\n",
       " 'Kaneohe',\n",
       " \"'SAN ANTONIOOOOO'\",\n",
       " 'Orange County, Calif.',\n",
       " 'Cobblestone',\n",
       " 'Clean World',\n",
       " 'Inside your mind.',\n",
       " 'Kleenex factory',\n",
       " 'Colorado/WorldWide',\n",
       " 'LiVE MÌ\\x81S',\n",
       " 'å_: ?? ÌÑ ? : ?',\n",
       " 'Oxford / bristol',\n",
       " 'Peoria',\n",
       " 'Washington, Krasnodar (Russia)',\n",
       " 'Laredo, TX',\n",
       " 'Southern Califorina',\n",
       " 'Abuja, Nigeria',\n",
       " 'golborne, north west england.',\n",
       " 'Novi, MI',\n",
       " '????? ???? ????',\n",
       " 'santo domingo',\n",
       " 'Wanderlust',\n",
       " 'Edmonton, Alberta - Treaty 6',\n",
       " 'norway',\n",
       " '? miranda ? 521 mi',\n",
       " 'ÌøåÀå_T: 40.736324,-73.990062',\n",
       " 'Indiana',\n",
       " 'The Howling',\n",
       " 'World Wide!!',\n",
       " 'Richmond, VA',\n",
       " 'Halifax, Nova Scotia',\n",
       " 'Lancaster California',\n",
       " 'EspaÌ±a - Spain - Espagne',\n",
       " 'Harlingen, TX',\n",
       " 'Jacksonville, FL',\n",
       " 'Vietnam',\n",
       " 'Fukuoka, Japan',\n",
       " 'Definitely NOT the stables',\n",
       " 'Aix-en-Provence/Utrecht',\n",
       " 'Philadelphia, PA USA',\n",
       " 'Romania',\n",
       " 'Asia',\n",
       " 'POFFIN',\n",
       " 'An eight-sided polygon',\n",
       " 'Jubail IC, Saudi Arabia',\n",
       " 'From NY. In Scranton, PA',\n",
       " 'instagram: bribriony',\n",
       " 'East Coast',\n",
       " 'Cherry Creek Denver CO',\n",
       " 'Western Washington',\n",
       " 'Derry, 17 ',\n",
       " 'Asia European Continent Korea ',\n",
       " 'Ondo',\n",
       " 'The American Wasteland (MV)',\n",
       " 'somewhere over a rainbow',\n",
       " 'Durham, NC',\n",
       " 'Storybrooke ',\n",
       " 'Lindenhurst',\n",
       " ' Blood Indian Reserve',\n",
       " 'Gloucester, MA',\n",
       " 'ducked off . . . ',\n",
       " 'israel',\n",
       " 'Kingston, Jamaica',\n",
       " 'Dreieich, Germany',\n",
       " 'Franklin, TN near Nashville',\n",
       " 'Fort Worth,  Texas ',\n",
       " 'Portland, Oregon',\n",
       " 'Mass',\n",
       " 'Garden City, NY',\n",
       " 'Waddesdon',\n",
       " 'JDB/LJC/AGB/TW/PLL',\n",
       " 'Kashmir!',\n",
       " 'Jonesboro, AR MO, IOWA USA',\n",
       " 'Soul Somalia/Body Montreal',\n",
       " 'Birmingham',\n",
       " 'The Wood',\n",
       " 'Essex/Brighton',\n",
       " '???',\n",
       " 'probably not home',\n",
       " 'BrasÌ_lia',\n",
       " 'Here there and everywhere',\n",
       " 'MI,USA',\n",
       " 'Toronto, Worldwide ',\n",
       " 'Morganville, Texas.',\n",
       " 'St. Catharines, Ontario',\n",
       " 'Some where',\n",
       " 'Cambridge, Massachusetts, U.S.',\n",
       " 'Kansas City, Mo.',\n",
       " 'Bangkok Thailand',\n",
       " 'SWinfo@dot.state.al.us',\n",
       " 'Downtown Churubusco, Indiana',\n",
       " 'PURPLE BOOTH STUDIO\\x89ã¢',\n",
       " 'Reality',\n",
       " 'Epic City, BB.',\n",
       " 'mind ya business',\n",
       " 'someplace living my life',\n",
       " 'Miami,FL',\n",
       " 'vancouver usa',\n",
       " 'Daddy Kink Central',\n",
       " 'Illumination ',\n",
       " 'CHICAGO',\n",
       " '876 Jamrock.',\n",
       " '?^åá??åá?^?? ??',\n",
       " 'nj',\n",
       " 'SEC Country',\n",
       " '#MadeInNorthumberland',\n",
       " 'india',\n",
       " 'BOT ACCOUNT',\n",
       " '(Spain)',\n",
       " 'MA',\n",
       " '10-Jul',\n",
       " 'Cydia',\n",
       " 'Dubai, UAE',\n",
       " 'Pueblo, Colorado',\n",
       " 'Trinidad and Tobago',\n",
       " 'Jamaica',\n",
       " 'SoCal',\n",
       " 'EspÌ_rito Santo',\n",
       " 'Ogba, Lagos, Nigeria',\n",
       " 'Montgomery County, MD',\n",
       " '#BlackLivesMatter',\n",
       " 'New York NYC',\n",
       " 'NYC metro',\n",
       " 'Everett, WA',\n",
       " 'Kokomo, In',\n",
       " 'Leeds, United Kingdom',\n",
       " 'City of London, London',\n",
       " 'middle eastern palace',\n",
       " 'Bend, Oregon',\n",
       " 'Attock',\n",
       " 'Central Florida',\n",
       " \"R'lyeh, South Pacific\",\n",
       " 'On a beach ',\n",
       " 'Atlanta Georgia ',\n",
       " 'New England',\n",
       " 'Bhubneshwar',\n",
       " 'Los Angeles ',\n",
       " ' Queensland, Australia',\n",
       " 'London, Riyadh',\n",
       " 'Waterfront',\n",
       " 'Melrose',\n",
       " 'FCT, Abuja ',\n",
       " '650/559',\n",
       " 'Intermountain West',\n",
       " 'antoine fisher ',\n",
       " 'Fairfax, VA',\n",
       " '?Gangsta OC / MV RP; 18+.?',\n",
       " 'tx',\n",
       " 'Kwajalein/Virginia/Dayton, OH',\n",
       " 'NY || live easy? ',\n",
       " 'South West, England',\n",
       " 'the azure cloud',\n",
       " 'Littleton, CO',\n",
       " 'Alphen aan den Rijn, Holland',\n",
       " 'Oklahoma City',\n",
       " 'online ',\n",
       " 'Anchorage, AK',\n",
       " 'Naperville',\n",
       " 'Bangalore, India',\n",
       " 'Victoria, BC  Canada',\n",
       " 'Republic of Texas',\n",
       " 'Nottingham',\n",
       " 'Massachusetts',\n",
       " 'We are global!',\n",
       " 'ATL??AL??',\n",
       " 'Johns Creek, GA',\n",
       " 'Fountain City, IN ',\n",
       " 'Surulere Lagos,Home Of Swagg',\n",
       " 'washington, d.c.',\n",
       " 'Reading UK',\n",
       " 'SouthEast Asia',\n",
       " 'i beg vines sorry ',\n",
       " 'Charleston, SC',\n",
       " 'the insane asylum. ',\n",
       " 'Bolivar, MO',\n",
       " 'Gages Lake, IL',\n",
       " 'United Kingdom,Fraserburgh',\n",
       " '[Gia.] | #KardashianEmpire',\n",
       " 'Benton City, Washington',\n",
       " 'Buscame EL tu Melte',\n",
       " 'we?it \\x89Û¢ ixwin',\n",
       " 'Brasil',\n",
       " 'statesboro/vidalia',\n",
       " 'Duncan',\n",
       " 'China',\n",
       " '21, Porto',\n",
       " 'East Islip, NY',\n",
       " 'facebook.com/tradcatknights',\n",
       " 'Nagpur',\n",
       " 'Orlando,FL  USA',\n",
       " 'Mumbai, Maharashtra',\n",
       " 'Dakar',\n",
       " 'Grand Rapids MI',\n",
       " 'One World',\n",
       " 'Nicoma Park, OK',\n",
       " 'Meereen ',\n",
       " 'Beside Basketball',\n",
       " \"Someday I'll live in England. \",\n",
       " 'ona block w/ my BOY ??',\n",
       " 'philly',\n",
       " 'Leesburg, FL',\n",
       " '92',\n",
       " 'Philadelphia, PA',\n",
       " 'Just Happy to Be Anywhere',\n",
       " 'milky way',\n",
       " 'Ibadan,Oyo state',\n",
       " 'England & Wales Border, UK',\n",
       " 'Lincoln City Oregon',\n",
       " 'U.S.A.   FEMA Region 5',\n",
       " 'Hogsmeade',\n",
       " 'Edinburgh, Scotland',\n",
       " 'Louisiana',\n",
       " 'Wakefield MA',\n",
       " 'TX',\n",
       " \"The Sun's Corona\",\n",
       " \"Robin Hood's County \",\n",
       " 'Georgia',\n",
       " 'Fort Fizz, Ohio',\n",
       " \"Conversing In Janet's CafÌ¬\",\n",
       " 'Essex',\n",
       " 'Greenville',\n",
       " 'Pennsylvania, PA',\n",
       " '1/3 of the blam squad ',\n",
       " 'Telangana',\n",
       " 'Detroit, Michigan',\n",
       " 'ny',\n",
       " 'MAD as Hell',\n",
       " 'brisbane, australia',\n",
       " 'London, Greater London, UK',\n",
       " 'NYC / International',\n",
       " '@potteratthedisc',\n",
       " 'Mackem in Bolton',\n",
       " 'San Francisco , CA',\n",
       " 'AsunciÌ_n-PY / TÌ_bingen-GER',\n",
       " 'Maryland ',\n",
       " 'Hong Kong',\n",
       " 'Two Up Two Down',\n",
       " 'Frome, Somerset, England',\n",
       " 'Okanagan Valley, BC',\n",
       " 'Magnolia, Fiore ',\n",
       " 'Dhaka, Bangladsh',\n",
       " 'On the court ',\n",
       " 'South Bloomfield, OH',\n",
       " 'District of Gentrification/ DC',\n",
       " 'San Diego, Calif.',\n",
       " 'bahstun/porta reeko',\n",
       " 'Bridport, England',\n",
       " 'Mysore, Karnataka',\n",
       " 'Texas, USA',\n",
       " 'Gold Coast, Australia',\n",
       " 'Atlanta,Ga',\n",
       " 'Financial News and Views',\n",
       " 'Nashua NH',\n",
       " 'Nairobi',\n",
       " 'Derby',\n",
       " 'Cairo, Egypt',\n",
       " 'Hogwarts',\n",
       " 'North Carolina, USA',\n",
       " 'probably watching survivor',\n",
       " 'Ebola',\n",
       " 'NJ',\n",
       " 'Asgard',\n",
       " 'Chicago - Lake Buena Vista',\n",
       " 'Ely, Cambridgeshire',\n",
       " 'Guatemala',\n",
       " 'Hope Road, Jamaica ',\n",
       " 'San Diego, Texas.',\n",
       " 'Crayford, London',\n",
       " 'pettyville, usa',\n",
       " 'Jamshedpur, Jharkhand',\n",
       " 'Brazos Valley, Texas',\n",
       " 'sÌ£o luis',\n",
       " ' Little Rock, AR',\n",
       " 'South of D.C.',\n",
       " \"where I'm supposed to be\",\n",
       " 'Belgrade',\n",
       " 'M!A: None',\n",
       " 'cleveland, oh',\n",
       " 'Sioux Falls, S.D. ',\n",
       " 'Hemel Hempstead',\n",
       " 'eBooks, North America',\n",
       " 'Palma, Islas Baleares',\n",
       " 'kenya',\n",
       " 'Coventry, UK',\n",
       " 'Memphis',\n",
       " 'russia',\n",
       " 'Amarillo',\n",
       " 'Hueco Mundo',\n",
       " 'Greensboro, North Carolina',\n",
       " 'i got 1/13 menpa replies, omg',\n",
       " 'Nanaimo, BC, Canada',\n",
       " 'Rochelle, GA',\n",
       " 'U.K.',\n",
       " 'Barcelona, Spain',\n",
       " 'Piedmont Triad, NC',\n",
       " 'In the moment',\n",
       " \"neil's kitchen  |  32215\",\n",
       " 'Earth 0',\n",
       " 'Manchester, The World, England',\n",
       " 'North West England UK',\n",
       " 'Basking Ridge, NJ',\n",
       " 'In My Lab Creating ',\n",
       " 'Here & There',\n",
       " 'Thrissur',\n",
       " \"Me mammy's belly\",\n",
       " 'Crouch End, London',\n",
       " 'Docker container',\n",
       " 'Gurgaon, Haryana. ',\n",
       " 'Kirkwall',\n",
       " 'Ottawa,Ontario Canada',\n",
       " 'Den Helder, Rijkswerf',\n",
       " 'South 37',\n",
       " 'Pocatello, ID',\n",
       " 'Eureka, California, USA',\n",
       " 'Los Angeles',\n",
       " \"satan's colon\",\n",
       " 'UK  & Germany',\n",
       " 'Memphis, in the Tennessees',\n",
       " 'Santa Clara, CA',\n",
       " '#UNITE THE BLUE  ',\n",
       " 'Greenfield, Massachusetts',\n",
       " 'japon',\n",
       " 'Upstairs.',\n",
       " \"Viterbo BFA Acting '18\",\n",
       " 'london town..',\n",
       " 'Kamloops, BC',\n",
       " 'highlands&slands scotland',\n",
       " 'Delhi',\n",
       " 'Finland',\n",
       " 'Wellington, New Zealand',\n",
       " 'Sugarhouse, UT',\n",
       " 'Perenjori, WA',\n",
       " 'Toronto, ON',\n",
       " 'Elchilicitanierraversal ',\n",
       " 'my house',\n",
       " 'Menasha, WI',\n",
       " 'Reddit ',\n",
       " 'Kenosha, WI 53143',\n",
       " 'Van Buren, MO',\n",
       " 'Sumter, SC',\n",
       " 'Boston, Massachusetts',\n",
       " 'Tulalip, Washington',\n",
       " 'Nigeria, WORLDWIDE',\n",
       " 'ss',\n",
       " 'I Heard #2MBikers',\n",
       " 'Brazil',\n",
       " 'Texas af',\n",
       " 'Chiyoda Ward, Tokyo',\n",
       " 'Bloomington, Indiana',\n",
       " 'Pon Di Gully',\n",
       " ...}"
      ]
     },
     "execution_count": 34,
     "metadata": {},
     "output_type": "execute_result"
    }
   ],
   "source": [
    "#Location\n",
    "loc=set(train[\"location\"])\n",
    "loc"
   ]
  },
  {
   "cell_type": "code",
   "execution_count": 35,
   "id": "364174d0",
   "metadata": {},
   "outputs": [],
   "source": [
    "def loc_clean1(string):\n",
    "  location=string\n",
    "  location=re.sub(r\"\\d+\",\" \",location)\n",
    "  location=re.sub(r\"\\W+\",\" \",location)\n",
    "  return location\n",
    "     "
   ]
  },
  {
   "cell_type": "code",
   "execution_count": 36,
   "id": "9bb74a9b",
   "metadata": {},
   "outputs": [],
   "source": [
    "train[\"location\"]=train[\"location\"].apply(lambda x: loc_clean1(x))\n",
    "test[\"location\"]=test[\"location\"].apply(lambda x: loc_clean1(x))"
   ]
  },
  {
   "cell_type": "code",
   "execution_count": 37,
   "id": "10674674",
   "metadata": {},
   "outputs": [
    {
     "data": {
      "text/plain": [
       "{'',\n",
       " 'ablaze',\n",
       " 'accident',\n",
       " 'aftershock',\n",
       " 'airplane%20accident',\n",
       " 'ambulance',\n",
       " 'annihilated',\n",
       " 'annihilation',\n",
       " 'apocalypse',\n",
       " 'armageddon',\n",
       " 'army',\n",
       " 'arson',\n",
       " 'arsonist',\n",
       " 'attack',\n",
       " 'attacked',\n",
       " 'avalanche',\n",
       " 'battle',\n",
       " 'bioterror',\n",
       " 'bioterrorism',\n",
       " 'blaze',\n",
       " 'blazing',\n",
       " 'bleeding',\n",
       " 'blew%20up',\n",
       " 'blight',\n",
       " 'blizzard',\n",
       " 'blood',\n",
       " 'bloody',\n",
       " 'blown%20up',\n",
       " 'body%20bag',\n",
       " 'body%20bagging',\n",
       " 'body%20bags',\n",
       " 'bomb',\n",
       " 'bombed',\n",
       " 'bombing',\n",
       " 'bridge%20collapse',\n",
       " 'buildings%20burning',\n",
       " 'buildings%20on%20fire',\n",
       " 'burned',\n",
       " 'burning',\n",
       " 'burning%20buildings',\n",
       " 'bush%20fires',\n",
       " 'casualties',\n",
       " 'casualty',\n",
       " 'catastrophe',\n",
       " 'catastrophic',\n",
       " 'chemical%20emergency',\n",
       " 'cliff%20fall',\n",
       " 'collapse',\n",
       " 'collapsed',\n",
       " 'collide',\n",
       " 'collided',\n",
       " 'collision',\n",
       " 'crash',\n",
       " 'crashed',\n",
       " 'crush',\n",
       " 'crushed',\n",
       " 'curfew',\n",
       " 'cyclone',\n",
       " 'damage',\n",
       " 'danger',\n",
       " 'dead',\n",
       " 'death',\n",
       " 'deaths',\n",
       " 'debris',\n",
       " 'deluge',\n",
       " 'deluged',\n",
       " 'demolish',\n",
       " 'demolished',\n",
       " 'demolition',\n",
       " 'derail',\n",
       " 'derailed',\n",
       " 'derailment',\n",
       " 'desolate',\n",
       " 'desolation',\n",
       " 'destroy',\n",
       " 'destroyed',\n",
       " 'destruction',\n",
       " 'detonate',\n",
       " 'detonation',\n",
       " 'devastated',\n",
       " 'devastation',\n",
       " 'disaster',\n",
       " 'displaced',\n",
       " 'drought',\n",
       " 'drown',\n",
       " 'drowned',\n",
       " 'drowning',\n",
       " 'dust%20storm',\n",
       " 'earthquake',\n",
       " 'electrocute',\n",
       " 'electrocuted',\n",
       " 'emergency',\n",
       " 'emergency%20plan',\n",
       " 'emergency%20services',\n",
       " 'engulfed',\n",
       " 'epicentre',\n",
       " 'evacuate',\n",
       " 'evacuated',\n",
       " 'evacuation',\n",
       " 'explode',\n",
       " 'exploded',\n",
       " 'explosion',\n",
       " 'eyewitness',\n",
       " 'famine',\n",
       " 'fatal',\n",
       " 'fatalities',\n",
       " 'fatality',\n",
       " 'fear',\n",
       " 'fire',\n",
       " 'fire%20truck',\n",
       " 'first%20responders',\n",
       " 'flames',\n",
       " 'flattened',\n",
       " 'flood',\n",
       " 'flooding',\n",
       " 'floods',\n",
       " 'forest%20fire',\n",
       " 'forest%20fires',\n",
       " 'hail',\n",
       " 'hailstorm',\n",
       " 'harm',\n",
       " 'hazard',\n",
       " 'hazardous',\n",
       " 'heat%20wave',\n",
       " 'hellfire',\n",
       " 'hijack',\n",
       " 'hijacker',\n",
       " 'hijacking',\n",
       " 'hostage',\n",
       " 'hostages',\n",
       " 'hurricane',\n",
       " 'injured',\n",
       " 'injuries',\n",
       " 'injury',\n",
       " 'inundated',\n",
       " 'inundation',\n",
       " 'landslide',\n",
       " 'lava',\n",
       " 'lightning',\n",
       " 'loud%20bang',\n",
       " 'mass%20murder',\n",
       " 'mass%20murderer',\n",
       " 'massacre',\n",
       " 'mayhem',\n",
       " 'meltdown',\n",
       " 'military',\n",
       " 'mudslide',\n",
       " 'natural%20disaster',\n",
       " 'nuclear%20disaster',\n",
       " 'nuclear%20reactor',\n",
       " 'obliterate',\n",
       " 'obliterated',\n",
       " 'obliteration',\n",
       " 'oil%20spill',\n",
       " 'outbreak',\n",
       " 'pandemonium',\n",
       " 'panic',\n",
       " 'panicking',\n",
       " 'police',\n",
       " 'quarantine',\n",
       " 'quarantined',\n",
       " 'radiation%20emergency',\n",
       " 'rainstorm',\n",
       " 'razed',\n",
       " 'refugees',\n",
       " 'rescue',\n",
       " 'rescued',\n",
       " 'rescuers',\n",
       " 'riot',\n",
       " 'rioting',\n",
       " 'rubble',\n",
       " 'ruin',\n",
       " 'sandstorm',\n",
       " 'screamed',\n",
       " 'screaming',\n",
       " 'screams',\n",
       " 'seismic',\n",
       " 'sinkhole',\n",
       " 'sinking',\n",
       " 'siren',\n",
       " 'sirens',\n",
       " 'smoke',\n",
       " 'snowstorm',\n",
       " 'storm',\n",
       " 'stretcher',\n",
       " 'structural%20failure',\n",
       " 'suicide%20bomb',\n",
       " 'suicide%20bomber',\n",
       " 'suicide%20bombing',\n",
       " 'sunk',\n",
       " 'survive',\n",
       " 'survived',\n",
       " 'survivors',\n",
       " 'terrorism',\n",
       " 'terrorist',\n",
       " 'threat',\n",
       " 'thunder',\n",
       " 'thunderstorm',\n",
       " 'tornado',\n",
       " 'tragedy',\n",
       " 'trapped',\n",
       " 'trauma',\n",
       " 'traumatised',\n",
       " 'trouble',\n",
       " 'tsunami',\n",
       " 'twister',\n",
       " 'typhoon',\n",
       " 'upheaval',\n",
       " 'violent%20storm',\n",
       " 'volcano',\n",
       " 'war%20zone',\n",
       " 'weapon',\n",
       " 'weapons',\n",
       " 'whirlwind',\n",
       " 'wild%20fires',\n",
       " 'wildfire',\n",
       " 'windstorm',\n",
       " 'wounded',\n",
       " 'wounds',\n",
       " 'wreck',\n",
       " 'wreckage',\n",
       " 'wrecked'}"
      ]
     },
     "execution_count": 37,
     "metadata": {},
     "output_type": "execute_result"
    }
   ],
   "source": [
    "#Keywords\n",
    "key=set(train[\"keyword\"])\n",
    "key"
   ]
  },
  {
   "cell_type": "code",
   "execution_count": 38,
   "id": "d0c2bb4c",
   "metadata": {},
   "outputs": [],
   "source": [
    "train[\"keyword\"]=train[\"keyword\"].apply(lambda x: loc_clean1(x))\n",
    "test[\"keyword\"]=test[\"keyword\"].apply(lambda x: loc_clean1(x))"
   ]
  },
  {
   "cell_type": "code",
   "execution_count": 39,
   "id": "e9ca41e3",
   "metadata": {},
   "outputs": [],
   "source": [
    "train[\"data\"] = train['keyword'] +' '+ train['location'] +' '+ train['text']\n",
    "test[\"data\"] = test['keyword'] +' '+ test['location'] +' '+ test['text']"
   ]
  },
  {
   "cell_type": "markdown",
   "id": "c625ed36",
   "metadata": {},
   "source": [
    "# Stemming\n"
   ]
  },
  {
   "cell_type": "code",
   "execution_count": 40,
   "id": "cbf32421",
   "metadata": {},
   "outputs": [
    {
     "data": {
      "text/plain": [
       "'train[\"text\"]=[ps.stem(word) for word in train.text if \\n                     word not in set(stopwords.words(\\'english\\'))]\\ntest[\"text\"]=[ps.stem(word) for word in test.text if \\n                     word not in set(stopwords.words(\\'english\\'))] '"
      ]
     },
     "execution_count": 40,
     "metadata": {},
     "output_type": "execute_result"
    }
   ],
   "source": [
    "\"\"\"train[\"text\"]=[ps.stem(word) for word in train.text if \n",
    "                     word not in set(stopwords.words('english'))]\n",
    "test[\"text\"]=[ps.stem(word) for word in test.text if \n",
    "                     word not in set(stopwords.words('english'))] \"\"\""
   ]
  },
  {
   "cell_type": "markdown",
   "id": "37ba9f80",
   "metadata": {},
   "source": [
    "# Lemmatizing"
   ]
  },
  {
   "cell_type": "code",
   "execution_count": 41,
   "id": "c80d9625",
   "metadata": {},
   "outputs": [
    {
     "data": {
      "text/plain": [
       "'train[\"text\"]=[lemmatizer.lemmatize(word) for word in train.text if \\n                     word not in set(stopwords.words(\\'english\\'))]\\ntest[\"text\"]=[lemmatizer.lemmatize(word) for word in test.text if \\n                     word not in set(stopwords.words(\\'english\\'))]'"
      ]
     },
     "execution_count": 41,
     "metadata": {},
     "output_type": "execute_result"
    }
   ],
   "source": [
    "\"\"\"train[\"text\"]=[lemmatizer.lemmatize(word) for word in train.text if \n",
    "                     word not in set(stopwords.words('english'))]\n",
    "test[\"text\"]=[lemmatizer.lemmatize(word) for word in test.text if \n",
    "                     word not in set(stopwords.words('english'))]\"\"\""
   ]
  },
  {
   "cell_type": "markdown",
   "id": "2de8bcca",
   "metadata": {},
   "source": [
    "# Vectorizer"
   ]
  },
  {
   "cell_type": "code",
   "execution_count": 42,
   "id": "5a92ccc3",
   "metadata": {},
   "outputs": [],
   "source": [
    "#CountVectorizer\n",
    "cv = CountVectorizer(ngram_range = (1,3))\n",
    "text_counts_train= cv.fit_transform(train[\"text\"])\n",
    "text_counts_test= cv.transform(test[\"text\"])"
   ]
  },
  {
   "cell_type": "code",
   "execution_count": 43,
   "id": "da440270",
   "metadata": {},
   "outputs": [],
   "source": [
    "X=text_counts_train\n",
    "y=train[[\"target\"]]\n",
    "test1=text_counts_test"
   ]
  },
  {
   "cell_type": "code",
   "execution_count": 44,
   "id": "c2ccba1c",
   "metadata": {},
   "outputs": [
    {
     "data": {
      "text/plain": [
       "'tfidf_v=TfidfVectorizer(ngram_range=(1,3))\\ntext_tf_train=tfidf_v.fit_transform(train[\"text_train\"])\\ntext_tf_test=tfidf_v.transform(test[\"text_train\"])'"
      ]
     },
     "execution_count": 44,
     "metadata": {},
     "output_type": "execute_result"
    }
   ],
   "source": [
    "#Tf-idf Vectorizer\n",
    "\"\"\"tfidf_v=TfidfVectorizer(ngram_range=(1,3))\n",
    "text_tf_train=tfidf_v.fit_transform(train[\"text_train\"])\n",
    "text_tf_test=tfidf_v.transform(test[\"text_train\"])\"\"\""
   ]
  },
  {
   "cell_type": "code",
   "execution_count": 45,
   "id": "8ea5295f",
   "metadata": {
    "scrolled": true
   },
   "outputs": [
    {
     "data": {
      "text/plain": [
       "'X_train=text_tf_train\\ny_train=train[[\"target\"]]\\nX_test=text_tf_test '"
      ]
     },
     "execution_count": 45,
     "metadata": {},
     "output_type": "execute_result"
    }
   ],
   "source": [
    "\"\"\"X_train=text_tf_train\n",
    "y_train=train[[\"target\"]]\n",
    "X_test=text_tf_test \"\"\""
   ]
  },
  {
   "cell_type": "markdown",
   "id": "3ea3044f",
   "metadata": {},
   "source": [
    "## Modelling"
   ]
  },
  {
   "cell_type": "code",
   "execution_count": 47,
   "id": "3d2dc9e1",
   "metadata": {},
   "outputs": [],
   "source": [
    "#split dataset\n",
    "X_train,X_test,y_train,y_test = train_test_split(X,y,test_size=0.33,random_state=9)"
   ]
  },
  {
   "cell_type": "markdown",
   "id": "8aa4028b",
   "metadata": {},
   "source": [
    "# LogisticRegression"
   ]
  },
  {
   "cell_type": "code",
   "execution_count": 48,
   "id": "94b7fab8",
   "metadata": {},
   "outputs": [],
   "source": [
    "log=LogisticRegression()\n",
    "log.fit(X_train,y_train)\n",
    "y_pred = log.predict(X_test)"
   ]
  },
  {
   "cell_type": "code",
   "execution_count": 49,
   "id": "78f86c48",
   "metadata": {},
   "outputs": [
    {
     "data": {
      "text/plain": [
       "array([[1299,  129],\n",
       "       [ 364,  721]], dtype=int64)"
      ]
     },
     "execution_count": 49,
     "metadata": {},
     "output_type": "execute_result"
    }
   ],
   "source": [
    "confusion_matrix(y_test,y_pred)"
   ]
  },
  {
   "cell_type": "code",
   "execution_count": 50,
   "id": "3554fac5",
   "metadata": {},
   "outputs": [
    {
     "data": {
      "text/plain": [
       "0.8038201352964585"
      ]
     },
     "execution_count": 50,
     "metadata": {},
     "output_type": "execute_result"
    }
   ],
   "source": [
    "accuracy_score(y_test,y_pred)"
   ]
  },
  {
   "cell_type": "code",
   "execution_count": 51,
   "id": "d06eb4e1",
   "metadata": {},
   "outputs": [],
   "source": [
    "log.fit(X,y)\n",
    "y_pred = log.predict(test1)"
   ]
  },
  {
   "cell_type": "markdown",
   "id": "37515ebc",
   "metadata": {},
   "source": [
    "# NaiveBayes"
   ]
  },
  {
   "cell_type": "code",
   "execution_count": 52,
   "id": "e1c97553",
   "metadata": {},
   "outputs": [],
   "source": [
    "clf = MultinomialNB().fit(X,y)\n",
    "y_pred = clf.predict(test1)"
   ]
  },
  {
   "cell_type": "code",
   "execution_count": 53,
   "id": "a351ad6e",
   "metadata": {},
   "outputs": [],
   "source": [
    "y_pred = pd.DataFrame(y_pred)\n",
    "y_pred.rename(columns={0:'target'},inplace=True)\n",
    "id=test_copy[[\"id\"]]\n",
    "y_pred=pd.concat([id,y_pred],axis=1)\n",
    "y_pred=pd.DataFrame(y_pred)"
   ]
  },
  {
   "cell_type": "markdown",
   "id": "53b1e8d6",
   "metadata": {},
   "source": [
    "# Exporting Output"
   ]
  },
  {
   "cell_type": "code",
   "execution_count": 54,
   "id": "3adff0a6",
   "metadata": {},
   "outputs": [],
   "source": [
    "#exportcsv\n",
    "export_csv=y_pred.to_csv('Output.csv',index=None,header=True)"
   ]
  },
  {
   "cell_type": "code",
   "execution_count": null,
   "id": "856b56e2",
   "metadata": {},
   "outputs": [],
   "source": []
  }
 ],
 "metadata": {
  "kernelspec": {
   "display_name": "Python 3 (ipykernel)",
   "language": "python",
   "name": "python3"
  },
  "language_info": {
   "codemirror_mode": {
    "name": "ipython",
    "version": 3
   },
   "file_extension": ".py",
   "mimetype": "text/x-python",
   "name": "python",
   "nbconvert_exporter": "python",
   "pygments_lexer": "ipython3",
   "version": "3.9.12"
  }
 },
 "nbformat": 4,
 "nbformat_minor": 5
}
